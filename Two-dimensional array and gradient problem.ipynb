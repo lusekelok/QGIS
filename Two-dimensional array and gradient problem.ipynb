{
  "nbformat": 4,
  "nbformat_minor": 0,
  "metadata": {
    "colab": {
      "name": "Untitled7.ipynb",
      "provenance": [],
      "authorship_tag": "ABX9TyOTg2cbRdGqlsN4uqzMC0XQ",
      "include_colab_link": true
    },
    "kernelspec": {
      "name": "python3",
      "display_name": "Python 3"
    },
    "language_info": {
      "name": "python"
    }
  },
  "cells": [
    {
      "cell_type": "markdown",
      "metadata": {
        "id": "view-in-github",
        "colab_type": "text"
      },
      "source": [
        "<a href=\"https://colab.research.google.com/github/lusekelok/QGIS/blob/master/Two-dimensional%20array%20and%20gradient%20problem.ipynb\" target=\"_parent\"><img src=\"https://colab.research.google.com/assets/colab-badge.svg\" alt=\"Open In Colab\"/></a>"
      ]
    },
    {
      "cell_type": "code",
      "metadata": {
        "id": "53nLPgLK4lMJ",
        "colab": {
          "base_uri": "https://localhost:8080/"
        },
        "outputId": "e93c593b-e55e-4951-d272-d0f29dfae096"
      },
      "source": [
        "#[Problem 1] Linear function\n",
        "\n",
        "import numpy as np\n",
        "\n",
        "x_ndarray = np.arange(-50, 50.1, 0.1)     #Create array from -50 to 50 interval of 0.1\n",
        "#print(x)\n",
        "y = []\n",
        "for x in x_ndarray:\n",
        "  y.append(((1/2)*x)+1)         #create list to hold values of y\n",
        "y_ndarray=np.array(y)             #convert list of value y to numpy array\n",
        "\n",
        "#reshaping the arrays(to 2 D) so as to enable concatenate in axis = 1\n",
        "x_ndarray1 = x_ndarray.reshape(1001,1)\n",
        "#print(x_ndarray1)\n",
        "y_ndarray1 = y_ndarray.reshape(1001,1)\n",
        "#print(y_ndarray1)\n",
        "\n",
        "print(x_ndarray1)       #X array\n",
        "print(y_ndarray1)       #Y array"
      ],
      "execution_count": 55,
      "outputs": [
        {
          "output_type": "stream",
          "text": [
            "[[-50. ]\n",
            " [-49.9]\n",
            " [-49.8]\n",
            " ...\n",
            " [ 49.8]\n",
            " [ 49.9]\n",
            " [ 50. ]]\n",
            "[[-24.  ]\n",
            " [-23.95]\n",
            " [-23.9 ]\n",
            " ...\n",
            " [ 25.9 ]\n",
            " [ 25.95]\n",
            " [ 26.  ]]\n"
          ],
          "name": "stdout"
        }
      ]
    },
    {
      "cell_type": "code",
      "metadata": {
        "colab": {
          "base_uri": "https://localhost:8080/"
        },
        "id": "gYMIYU2KXPnY",
        "outputId": "09edda49-931b-49fa-a9be-2ec51acedffa"
      },
      "source": [
        "#[Problem 2] Array combination\n",
        "\n",
        "combined_ndarray = np.concatenate((x_ndarray1, y_ndarray1), axis = 1)\n",
        "print(combined_ndarray)       #combined arrays for X and Y\n",
        "combined_ndarray.shape        #checking for shape of combined x and Y arrays\n",
        "#print(combined_ndarray[0][0]) \n",
        "#print(combined_ndarray[0][1])"
      ],
      "execution_count": 57,
      "outputs": [
        {
          "output_type": "stream",
          "text": [
            "[[-50.   -24.  ]\n",
            " [-49.9  -23.95]\n",
            " [-49.8  -23.9 ]\n",
            " ...\n",
            " [ 49.8   25.9 ]\n",
            " [ 49.9   25.95]\n",
            " [ 50.    26.  ]]\n"
          ],
          "name": "stdout"
        },
        {
          "output_type": "execute_result",
          "data": {
            "text/plain": [
              "(1001, 2)"
            ]
          },
          "metadata": {
            "tags": []
          },
          "execution_count": 57
        }
      ]
    },
    {
      "cell_type": "code",
      "metadata": {
        "id": "Bo6y8NcJzi98"
      },
      "source": [
        "#[Problem 3] Find the gradient\n",
        "\n",
        "\n",
        "a1_ndarray = x_ndarray1[1:]       #the first slice [1:] in x-axis\n",
        "#print(a1_ndarray)\n",
        "aNeg1_ndarray = x_ndarray1[:-1]   #the second slice [:-1] in x-axis\n",
        "print(aNeg1_ndarray.shape)\n",
        "d_ax_ndarray = a1_ndarray - aNeg1_ndarray      #difference array in x-coordinates\n",
        "print(d_ax_ndarray.shape)\n",
        "#print(y_ndarray1)\n",
        "b1_ndarray = y_ndarray1[1:]     #the first slice [1:] in y-axis\n",
        "#print(b1_ndarray)\n",
        "bNeg1_ndarray = y_ndarray1[:-1]   #the second slice [:-1] in y-axis\n",
        "#print(bNeg1_ndarray)\n",
        "d_ay_ndarray = b1_ndarray - bNeg1_ndarray   ##difference array in y-coordinates\n",
        "#print(d_ay_ndarray)\n",
        "\n",
        "\n",
        "gradient_ndarray = d_ay_ndarray/d_ax_ndarray\n",
        "#print(gradient_ndarray)           \n",
        "print(gradient_ndarray)     #gradient at each point"
      ],
      "execution_count": null,
      "outputs": []
    },
    {
      "cell_type": "code",
      "metadata": {
        "colab": {
          "base_uri": "https://localhost:8080/",
          "height": 313
        },
        "id": "Gi7SNPjKkS3w",
        "outputId": "90bcdafc-8c5d-44ff-c22a-35b25e4eedc9"
      },
      "source": [
        "#[Problem 4] Draw a graph\n",
        "\n",
        "\n",
        "import matplotlib.pyplot as plt\n",
        "\n",
        " \n",
        "plt.plot (aNeg1_ndarray, gradient_ndarray)\n",
        "plt.xlabel(\"X\")\n",
        "plt.ylabel(\"Gradient\")\n",
        "plt.title(\"x values against gradient graph\")\n",
        "plt.show\n"
      ],
      "execution_count": 61,
      "outputs": [
        {
          "output_type": "execute_result",
          "data": {
            "text/plain": [
              "<function matplotlib.pyplot.show>"
            ]
          },
          "metadata": {
            "tags": []
          },
          "execution_count": 61
        },
        {
          "output_type": "display_data",
          "data": {
            "image/png": "[encoded data removed]",
            "text/plain": [
              "<Figure size 432x288 with 1 Axes>"
            ]
          },
          "metadata": {
            "tags": [],
            "needs_background": "light"
          }
        }
      ]
    },
    {
      "cell_type": "code",
      "metadata": {
        "colab": {
          "base_uri": "https://localhost:8080/",
          "height": 313
        },
        "id": "7SoPIfRLY7Zh",
        "outputId": "3e422194-2697-47bc-fee6-ab3701953c37"
      },
      "source": [
        "def f(x):                 #define the function f(x)\n",
        "  return ((1/2)*x)+1    #relationship of y and x\n",
        "\n",
        "plt.plot (x_ndarray1, f(x_ndarray1))    #plotting x against y\n",
        "plt.xlabel(\"X\")\n",
        "plt.ylabel(\"Y\")\n",
        "plt.title(\"x against y values graph\")\n",
        "plt.show"
      ],
      "execution_count": 30,
      "outputs": [
        {
          "output_type": "execute_result",
          "data": {
            "text/plain": [
              "<function matplotlib.pyplot.show>"
            ]
          },
          "metadata": {
            "tags": []
          },
          "execution_count": 30
        },
        {
          "output_type": "display_data",
          "data": {
            "image/png": "[encoded data removed]",
            "text/plain": [
              "<Figure size 432x288 with 1 Axes>"
            ]
          },
          "metadata": {
            "tags": [],
            "needs_background": "light"
          }
        }
      ]
    },
    {
      "cell_type": "code",
      "metadata": {
        "colab": {
          "base_uri": "https://localhost:8080/"
        },
        "id": "4_Six8Ij_u_I",
        "outputId": "3dd1fb1e-c2a7-49d8-9d08-2a589e773c43"
      },
      "source": [
        "#[Problem 5] Python functionalization\n",
        "\n",
        "def function(x):\n",
        "\n",
        "    return x**2\n",
        "\n",
        "#gradient function. It can be used for all other functions \n",
        "def compute_gradient(function, x_range):\n",
        "\n",
        "    x = x_range\n",
        "\n",
        "    y = function(x_range)\n",
        "\n",
        "    array_xy  = np.vstack([x, y]).T     #concatenating in axis = 1 direction\n",
        "\n",
        "    y_alteration = y[1:] - y[:-1]       #Y differences\n",
        "\n",
        "    x_alteration = x[1:] - x[:-1]       #X differences\n",
        "\n",
        "    gradient = y_alteration / x_alteration      #Gradient\n",
        "\n",
        "    return array_xy, gradient\n",
        "\n",
        "array_xy, gradient = compute_gradient(function, np.arange(-50, 50.1, 0.1))\n",
        "aNeg2_ndrray = array_xy[:, [0]][:-1]   #extracting the [:1] slice of the X values so as to have X data of shape (1000, 1)\n",
        "#print (aNeg2_ndrray)\n",
        "#print (gradient.shape)\n",
        "print(array_xy)\n",
        "#compute_gradient(function1, np.arange(-50, 50.1, 0.1))"
      ],
      "execution_count": 62,
      "outputs": [
        {
          "output_type": "stream",
          "text": [
            "[[ -50.   2500.  ]\n",
            " [ -49.9  2490.01]\n",
            " [ -49.8  2480.04]\n",
            " ...\n",
            " [  49.8  2480.04]\n",
            " [  49.9  2490.01]\n",
            " [  50.   2500.  ]]\n"
          ],
          "name": "stdout"
        }
      ]
    },
    {
      "cell_type": "code",
      "metadata": {
        "colab": {
          "base_uri": "https://localhost:8080/",
          "height": 313
        },
        "id": "GjeSAwRyc0sw",
        "outputId": "7893ebbc-c221-43ed-d28f-20e4aaed0664"
      },
      "source": [
        "#plotting graph of X and gradient\n",
        "import matplotlib.pyplot as plt\n",
        "\n",
        " \n",
        "plt.plot (aNeg2_ndrray, gradient)\n",
        "plt.xlabel(\"X\")\n",
        "plt.ylabel(\"Gradient\")\n",
        "plt.title(\"x values against gradient graph\")\n",
        "plt.show"
      ],
      "execution_count": 33,
      "outputs": [
        {
          "output_type": "execute_result",
          "data": {
            "text/plain": [
              "<function matplotlib.pyplot.show>"
            ]
          },
          "metadata": {
            "tags": []
          },
          "execution_count": 33
        },
        {
          "output_type": "display_data",
          "data": {
            "image/png": "[encoded data removed]",
            "text/plain": [
              "<Figure size 432x288 with 1 Axes>"
            ]
          },
          "metadata": {
            "tags": [],
            "needs_background": "light"
          }
        }
      ]
    },
    {
      "cell_type": "code",
      "metadata": {
        "id": "AhNvbBURXwhz"
      },
      "source": [
        "def function1(x):\n",
        "\n",
        "    return 2*x**2 + 2**x\n",
        "\n",
        "#gradient function. It can be used for all other functions \n",
        "def compute_gradient1(function1, x_range):\n",
        "\n",
        "    x = x_range\n",
        "\n",
        "    y = function1(x_range)\n",
        "\n",
        "    array_xy  = np.vstack([x, y]).T\n",
        "\n",
        "    y_alteration = y[1:] - y[:-1]\n",
        "\n",
        "    x_alteration = x[1:] - x[:-1]\n",
        "\n",
        "    gradient = y_alteration / x_alteration\n",
        "\n",
        "    return array_xy, gradient\n",
        "compute_gradient1(function1, np.arange(-50, 50.1, 0.1))\n",
        "array_xy1, gradient1=compute_gradient1(function1, np.arange(-50, 50.1, 0.1))\n",
        "aNeg3_ndrray = array_xy1[:, [0]][:-1]\n",
        "aNeg3_ndrray\n",
        "Y2 = array_xy1[:, [1]][:-1]\n",
        "print(Y2)\n",
        "#print (array_xy1)\n",
        "#print (gradient2)"
      ],
      "execution_count": null,
      "outputs": []
    },
    {
      "cell_type": "code",
      "metadata": {
        "colab": {
          "base_uri": "https://localhost:8080/",
          "height": 313
        },
        "id": "l2UycuePJMEy",
        "outputId": "1d7ded5b-6067-416c-e1aa-e50c55661d33"
      },
      "source": [
        "plt.plot (aNeg3_ndrray, gradient1)\n",
        "plt.xlabel(\"X\")\n",
        "plt.ylabel(\"Gradient\")\n",
        "plt.title(\"x values against gradient graph\")\n",
        "plt.show"
      ],
      "execution_count": 35,
      "outputs": [
        {
          "output_type": "execute_result",
          "data": {
            "text/plain": [
              "<function matplotlib.pyplot.show>"
            ]
          },
          "metadata": {
            "tags": []
          },
          "execution_count": 35
        },
        {
          "output_type": "display_data",
          "data": {
            "image/png": "[encoded data removed]",
            "text/plain": [
              "<Figure size 432x288 with 1 Axes>"
            ]
          },
          "metadata": {
            "tags": [],
            "needs_background": "light"
          }
        }
      ]
    },
    {
      "cell_type": "code",
      "metadata": {
        "id": "lovTrYLnapW-"
      },
      "source": [
        "def function2(x):\n",
        "    import math\n",
        "    return np.sin(x**0.5)\n",
        "\n",
        "#gradient function. It can be used for all other functions \n",
        "def compute_gradient2(function2, x_range):\n",
        "\n",
        "    x = x_range\n",
        "\n",
        "    y = function2(x_range)\n",
        "\n",
        "    array_xy  = np.vstack([x, y]).T\n",
        "\n",
        "    y_alteration = y[1:] - y[:-1]\n",
        "\n",
        "    x_alteration = x[1:] - x[:-1]\n",
        "\n",
        "    gradient = y_alteration / x_alteration\n",
        "\n",
        "    return array_xy, gradient\n",
        "array_xy2, gradient2 = compute_gradient2(function2, np.arange(0, 50.1, 0.1))\n",
        "Y3 = array_xy2[:, [1]][:-1]\n",
        "print(Y3)\n",
        "#print(aNeg4_ndrray.shape)\n",
        "#print(gradient2.shape)\n",
        "print(array_xy2)"
      ],
      "execution_count": null,
      "outputs": []
    },
    {
      "cell_type": "code",
      "metadata": {
        "colab": {
          "base_uri": "https://localhost:8080/",
          "height": 313
        },
        "id": "FphDuMkOQ8Kw",
        "outputId": "071df937-40c2-4b3e-8d82-ba436588e066"
      },
      "source": [
        "plt.plot (aNeg4_ndrray, gradient2)\n",
        "plt.xlabel(\"X\")\n",
        "plt.ylabel(\"Gradient\")\n",
        "plt.title(\"x values against gradient graph\")\n",
        "plt.show"
      ],
      "execution_count": 50,
      "outputs": [
        {
          "output_type": "execute_result",
          "data": {
            "text/plain": [
              "<function matplotlib.pyplot.show>"
            ]
          },
          "metadata": {
            "tags": []
          },
          "execution_count": 50
        },
        {
          "output_type": "display_data",
          "data": {
            "image/png": "[encoded data removed]",
            "text/plain": [
              "<Figure size 432x288 with 1 Axes>"
            ]
          },
          "metadata": {
            "tags": [],
            "needs_background": "light"
          }
        }
      ]
    },
    {
      "cell_type": "code",
      "metadata": {
        "colab": {
          "base_uri": "https://localhost:8080/"
        },
        "id": "lAHsFLsLZppE",
        "outputId": "19781907-d8f2-49ae-c0ec-abedc749e6d9"
      },
      "source": [
        "#[Problem 6] Find the minimum value\n",
        "\n",
        "#for y = x**2     ( -50 <= x <= 50)\n",
        "\n",
        "array_xy, gradient = compute_gradient(function, np.arange(-50, 50.1, 0.1))\n",
        "Y_values = array_xy[:, [1]][:-1]\n",
        "#print(Y_values)\n",
        "print(np.amin(Y_values))      #minimum Y value\n",
        "print(np.argmin(Y_values))    #index for minimum Y value"
      ],
      "execution_count": 42,
      "outputs": [
        {
          "output_type": "stream",
          "text": [
            "5.048709793414476e-25\n",
            "500\n"
          ],
          "name": "stdout"
        }
      ]
    },
    {
      "cell_type": "code",
      "metadata": {
        "colab": {
          "base_uri": "https://localhost:8080/"
        },
        "id": "LFrJIu5O5WI0",
        "outputId": "b4a826b8-f863-484f-a349-68f280ad446f"
      },
      "source": [
        "#for y = 2x**2 + 2**x   (-50 <= x <= 50)\n",
        "\n",
        "array_xy1, gradient1=compute_gradient1(function1, np.arange(-50, 50.1, 0.1))\n",
        "Y1_values = array_xy1[:, [1]][:-1]\n",
        "#print(Y1_values)\n",
        "print(np.amin(Y1_values))      #minimum Y value\n",
        "print(np.argmin(Y1_values))    #index for minimum Y value"
      ],
      "execution_count": 41,
      "outputs": [
        {
          "output_type": "stream",
          "text": [
            "0.9505505632959851\n",
            "498\n"
          ],
          "name": "stdout"
        }
      ]
    },
    {
      "cell_type": "code",
      "metadata": {
        "colab": {
          "base_uri": "https://localhost:8080/"
        },
        "id": "Mx2WNib5aQM8",
        "outputId": "88f5509f-d313-48dd-ec1d-6abad8778130"
      },
      "source": [
        "#for y = sin (x**0.5)   (0 <= x <= 50)\n",
        "\n",
        "array_xy1, gradient1=compute_gradient2(function2, np.arange(0, 50.1, 0.1))\n",
        "Y2_values = array_xy1[:, [1]][:-1]\n",
        "#print(Y2_values)\n",
        "print(np.amin(Y2_values))      #minimum Y value\n",
        "print(np.argmin(Y2_values))   #index for minimum Y value"
      ],
      "execution_count": 49,
      "outputs": [
        {
          "output_type": "stream",
          "text": [
            "-0.9999997540298113\n",
            "222\n"
          ],
          "name": "stdout"
        }
      ]
    }
  ]
}